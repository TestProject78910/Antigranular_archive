{
 "cells": [
  {
   "attachments": {},
   "cell_type": "markdown",
   "metadata": {},
   "source": [
    "# Antigranular: Sample Notebook\n",
    "\n",
    "This notebook is a sample notebook for the Antigranular project. It demonstrates use of the antigranular client package to connect to antigranular enclave server running on network of Oblivious Enclaves. \n",
    "\n",
    "Running inside the enclave is a restricted python-like runtime managed as a Jupyter kernel. It uses static and dynamic analysis to enforce static typing, scoping constraints and a limited api to interfact with private or sensitive data sources. \n",
    "\n",
    "The two core technical components the enforce our privacy constraints for data scientists are:\n",
    "- Secure Enclaves (A form of input privacy)\n",
    "- Differential Privacy (A form of output privacy)\n",
    "\n",
    "### What are secure enclaves?\n",
    "\n",
    "Secure enclaves are isolated servers with two very powerful properties:\n",
    "\n",
    "They have extremely limitted IO and need explicit inbound and outbound connections to recieve and send data. No one can simply SSH into an enclave and see data as it is being processed, nor can data end up unexpectedly in log files.\n",
    "The underlying infrastructure \"attests\" what is running inside. So when we write some software to deploy into an enclave, the physical infrastructure will hash the software and environment and place these values into a document which it digitally signs. In short, the cloud infrastructure implicitly gaurentees to those connecting to the enclave the exact processing and behaviour of what is running inside the enclave.\n",
    "\n",
    "This is extremely powerful as we can use these charecteristics to clearly structure rules around what processes can decrypt what data (not what servers, or people - what actual computation is approved!). AS you can imagine, all of the major cloud providers have developed an enclave offering of one form or another (AWS, Azure, GPC, Alibaba Cloud, IBM, Oracle, OVH Cloud.... the list goes on) over the past few years and billions worth of investments have been poored into the domain.\n",
    "\n",
    "### What is Differential Privacy? \n",
    "  \n",
    "While this workshop focuses on synthetic data, there are different approaches to creating synthetic data. The only method which gives a theoretical privacy guarantee is called Differentially Private (DP) synthetic data.\n",
    "  \n",
    "Differential privacy, coined in [2006 by Cynthia Dwork, Frank McSherry, Kobbi Nissim and Adam D. Smith](https://link.springer.com/chapter/10.1007/11681878_14), is a theoretical statement about the guessing probability of data being present in a dataset given stochastic measurements/queries of the dataset (intuitively: any information gained that is derived from the dataset). Some processes may naturally create stochastic measurements; however, in most cases, calibrated noise is intentionally applied to a result of measurement such that the measurement will be differentially private. \n",
    "  \n",
    "This privacy framework ultimately relies on what you want the guessing probability to be, and there is a natural trade-off between the accuracy of a measurement and the guessing probability. Strictly speaking, this guessing probability is parameterised by a coefficient ε. If ε is 0, the measurement discloses no information about the data being in the dataset, so the guessing probability is uniform (50:50). If ε is infinite, then the measurement discloses with absolute certainty whether the data is present or not in the dataset.\n",
    "\n",
    "$$ \\epsilon \\geq \\ln \\left( \\frac{Pr[M(x) \\in S]}{Pr[M(x') \\in S]} \\right) $$\n",
    "  \n",
    "There is no golden rule in selecting an acceptable ε which you can deem \"safe”, and you will likely need to decide internally what you believe to be a reasonable risk.\n",
    "  \n",
    "Finally, the ε of multiple measurements/queries can interact in complicated ways. However, it is straightforward to upper bound the worst case ε by the sum of all of the ε: $\\epsilon = \\sum_{i=0}^{n} \\epsilon_i$"
   ]
  },
  {
   "attachments": {},
   "cell_type": "markdown",
   "metadata": {},
   "source": [
    "## Moving Privacy into the Code Block\n",
    "\n",
    "In order to combine input and output privacy, we provide a framework for remotecode execution the feels somewhat native to the data science user experience. The steps are essentially:\n",
    "\n",
    "- Connect to a enclave backend.\n",
    "- Use the `%%ag` magic to send blocks of code for remote execution.\n",
    "- Manipulate and query data in the safety of the enclave and export only public data (post-DP) to the client.\n",
    "\n",
    "To get started we import the antigranular package:"
   ]
  },
  {
   "cell_type": "code",
   "execution_count": 1,
   "metadata": {},
   "outputs": [],
   "source": [
    "import antigranular as ag"
   ]
  },
  {
   "attachments": {},
   "cell_type": "markdown",
   "metadata": {},
   "source": [
    "### Log In with OAuth\n",
    "\n",
    "We use standard OAuth to authenticate users despite doing the full attestation based handshake to authenticate the software running within the enclave. In the example below, you can ignore the temp_user/password, this is only in place for local testing and demos:"
   ]
  },
  {
   "cell_type": "code",
   "execution_count": 2,
   "metadata": {},
   "outputs": [
    {
     "name": "stdout",
     "output_type": "stream",
     "text": [
      "Cell magic '%%ag' registered successfully, use `%%ag` in a notebook cell to execute your python code on Antigranular private python server\n",
      "Started new session with session id:  7b3b831d-6158-4f4e-80c6-5438f6b9ss15\n"
     ]
    }
   ],
   "source": [
    "ag_client  = ag.login(\"<user_id>\", \"<user_secret>\", \"comp_dataset_id\", \"temp_username\", \"temp_password\")"
   ]
  },
  {
   "attachments": {},
   "cell_type": "markdown",
   "metadata": {},
   "source": [
    "Once you've logged in you will have a session id associated with your interactions. This actually gets embedded into the ipynb metadata so when you share your notebook we can associate it with your score from a competition, or you metrics associated with analysing a dataset."
   ]
  },
  {
   "cell_type": "code",
   "execution_count": 3,
   "metadata": {},
   "outputs": [
    {
     "data": {
      "text/plain": [
       "'b8984214-3c4a-43d8-b19f-f81c61c6f56f'"
      ]
     },
     "execution_count": 3,
     "metadata": {},
     "output_type": "execute_result"
    }
   ],
   "source": [
    "ag_client.session_id"
   ]
  },
  {
   "attachments": {},
   "cell_type": "markdown",
   "metadata": {},
   "source": [
    "### Executing Code with AG\n",
    "\n",
    "We have used magic `%%ag` to let user toggle between private python and regular. Simply, add it to the top of any cell and your code will be remotely executed. Any non-private data type (int, float, list, str, etc) can be exported back to your current Jupyter instance using the `export` method as seen below:"
   ]
  },
  {
   "cell_type": "code",
   "execution_count": 4,
   "metadata": {},
   "outputs": [
    {
     "name": "stdout",
     "output_type": "stream",
     "text": [
      "Setting up exported variable in local environment: x\n"
     ]
    }
   ],
   "source": [
    "%%ag \n",
    "from ag_utils import export \n",
    "\n",
    "export(2, \"x\")"
   ]
  },
  {
   "cell_type": "code",
   "execution_count": 5,
   "metadata": {},
   "outputs": [
    {
     "name": "stdout",
     "output_type": "stream",
     "text": [
      "Look what's in x now in your local Jupyter session: 2\n"
     ]
    }
   ],
   "source": [
    "print(\"Look what's in x now in your local Jupyter session:\", x)"
   ]
  },
  {
   "attachments": {},
   "cell_type": "markdown",
   "metadata": {},
   "source": [
    "### Throwing Errors\n",
    "\n",
    "Errors can be thrown for a variety of reasons. Antigranular restrict many AST nodes, enforces strict mypy, limits the scopes of variable assignments and much more. If you try to do any of these you will be greated with an error message which is forwarded to your local runtime:"
   ]
  },
  {
   "cell_type": "code",
   "execution_count": 6,
   "metadata": {},
   "outputs": [
    {
     "name": "stdout",
     "output_type": "stream",
     "text": [
      "\u001b[0;31m---------------------------------------------------------------------------\u001b[0m\u001b[0;31mRuntimeError\u001b[0m                              Traceback (most recent call last)File \u001b[0;32m/code/dependencies/ag-private-kernel/kernel/compiler/restricted.py:20\u001b[0m, in \u001b[0;36mRestrictedCachingCompiler.__call__\u001b[0;34m(self, source, filename, symbol)\u001b[0m\n",
      "\u001b[1;32m     18\u001b[0m     symbol \u001b[38;5;241m=\u001b[39m \u001b[38;5;124m\"\u001b[39m\u001b[38;5;124mexec\u001b[39m\u001b[38;5;124m\"\u001b[39m\n",
      "\u001b[1;32m     19\u001b[0m unparsed_source: \u001b[38;5;28mstr\u001b[39m \u001b[38;5;241m=\u001b[39m ast\u001b[38;5;241m.\u001b[39munparse(source)\n",
      "\u001b[0;32m---> 20\u001b[0m code_obj \u001b[38;5;241m=\u001b[39m \u001b[38;5;28;43mself\u001b[39;49m\u001b[38;5;241;43m.\u001b[39;49m\u001b[43mparser\u001b[49m\u001b[38;5;241;43m.\u001b[39;49m\u001b[43mparse_and_compile\u001b[49m\u001b[43m(\u001b[49m\n",
      "\u001b[1;32m     21\u001b[0m \u001b[43m    \u001b[49m\u001b[43mcode\u001b[49m\u001b[38;5;241;43m=\u001b[39;49m\u001b[43munparsed_source\u001b[49m\u001b[43m,\u001b[49m\u001b[43m \u001b[49m\u001b[43mfilename\u001b[49m\u001b[38;5;241;43m=\u001b[39;49m\u001b[43mfilename\u001b[49m\u001b[43m,\u001b[49m\u001b[43m \u001b[49m\u001b[43mmode\u001b[49m\u001b[38;5;241;43m=\u001b[39;49m\u001b[43msymbol\u001b[49m\n",
      "\u001b[1;32m     22\u001b[0m \u001b[43m\u001b[49m\u001b[43m)\u001b[49m\n",
      "\u001b[1;32m     23\u001b[0m \u001b[38;5;28;01mfor\u001b[39;00m feature \u001b[38;5;129;01min\u001b[39;00m _features:\n",
      "\u001b[1;32m     24\u001b[0m     \u001b[38;5;28;01mif\u001b[39;00m code_obj\u001b[38;5;241m.\u001b[39mco_flags \u001b[38;5;241m&\u001b[39m feature\u001b[38;5;241m.\u001b[39mcompiler_flag:\n",
      "File \u001b[0;32m/code/dependencies/ag-engine/ag_engine/parser.py:56\u001b[0m, in \u001b[0;36mParser.parse_and_compile\u001b[0;34m(self, code, filename, mode)\u001b[0m\n",
      "\u001b[1;32m     53\u001b[0m total_code \u001b[38;5;241m=\u001b[39m \u001b[38;5;124m\"\u001b[39m\u001b[38;5;130;01m\\n\u001b[39;00m\u001b[38;5;124m\"\u001b[39m\u001b[38;5;241m.\u001b[39mjoin(\u001b[38;5;28mself\u001b[39m\u001b[38;5;241m.\u001b[39mcode_history) \u001b[38;5;241m+\u001b[39m \u001b[38;5;124m\"\u001b[39m\u001b[38;5;130;01m\\n\u001b[39;00m\u001b[38;5;124m\"\u001b[39m \u001b[38;5;241m+\u001b[39m code\n",
      "\u001b[1;32m     55\u001b[0m ast \u001b[38;5;241m=\u001b[39m AST(code\u001b[38;5;241m=\u001b[39mtotal_code)\n",
      "\u001b[0;32m---> 56\u001b[0m \u001b[43mast\u001b[49m\u001b[38;5;241;43m.\u001b[39;49m\u001b[43mcheck\u001b[49m\u001b[43m(\u001b[49m\u001b[43m)\u001b[49m\n",
      "\u001b[1;32m     58\u001b[0m sym \u001b[38;5;241m=\u001b[39m Symtable(code\u001b[38;5;241m=\u001b[39mtotal_code, allowed_global_symbols\u001b[38;5;241m=\u001b[39m\u001b[38;5;28mself\u001b[39m\u001b[38;5;241m.\u001b[39mdefault_globals)\n",
      "\u001b[1;32m     59\u001b[0m sym\u001b[38;5;241m.\u001b[39msymtable_check()\n",
      "File \u001b[0;32m/code/dependencies/ag-engine/ag_engine/static_analysis/ast_walk.py:16\u001b[0m, in \u001b[0;36mAST.check\u001b[0;34m(self)\u001b[0m\n",
      "\u001b[1;32m     14\u001b[0m \u001b[38;5;28;01mfor\u001b[39;00m node \u001b[38;5;129;01min\u001b[39;00m ast\u001b[38;5;241m.\u001b[39mwalk(\u001b[38;5;28mself\u001b[39m\u001b[38;5;241m.\u001b[39mast_code):\n",
      "\u001b[1;32m     15\u001b[0m     \u001b[38;5;28;01mif\u001b[39;00m \u001b[38;5;28mtype\u001b[39m(node) \u001b[38;5;129;01mnot\u001b[39;00m \u001b[38;5;129;01min\u001b[39;00m default_config\u001b[38;5;241m.\u001b[39mast_allowed:\n",
      "\u001b[0;32m---> 16\u001b[0m         \u001b[38;5;28;01mraise\u001b[39;00m \u001b[38;5;167;01mRuntimeError\u001b[39;00m(\u001b[38;5;124mf\u001b[39m\u001b[38;5;124m\"\u001b[39m\u001b[38;5;124mRestricted, Cannot use \u001b[39m\u001b[38;5;132;01m{\u001b[39;00mnode\u001b[38;5;132;01m}\u001b[39;00m\u001b[38;5;124m in pripy\u001b[39m\u001b[38;5;124m\"\u001b[39m)\n",
      "\u001b[1;32m     18\u001b[0m     \u001b[38;5;66;03m# adding imports\u001b[39;00m\n",
      "\u001b[1;32m     19\u001b[0m     \u001b[38;5;28;01mif\u001b[39;00m \u001b[38;5;28misinstance\u001b[39m(node, ast\u001b[38;5;241m.\u001b[39mImport):\n",
      "\u001b[0;31mRuntimeError\u001b[0m: Restricted, Cannot use <ast.Raise object at 0x7f743cfcb430> in pripy\n"
     ]
    }
   ],
   "source": [
    "%%ag \n",
    "\n",
    "raise ConnectionError(f\"Error calling /session_status: {str('lalala')}\")"
   ]
  },
  {
   "attachments": {},
   "cell_type": "markdown",
   "metadata": {},
   "source": [
    "We limit the scope intensionally to limit the side effects of a method call"
   ]
  },
  {
   "cell_type": "code",
   "execution_count": 7,
   "metadata": {},
   "outputs": [
    {
     "name": "stdout",
     "output_type": "stream",
     "text": [
      "\u001b[0;31m---------------------------------------------------------------------------\u001b[0m\u001b[0;31mRuntimeError\u001b[0m                              Traceback (most recent call last)File \u001b[0;32m/code/dependencies/ag-private-kernel/kernel/compiler/restricted.py:20\u001b[0m, in \u001b[0;36mRestrictedCachingCompiler.__call__\u001b[0;34m(self, source, filename, symbol)\u001b[0m\n",
      "\u001b[1;32m     18\u001b[0m     symbol \u001b[38;5;241m=\u001b[39m \u001b[38;5;124m\"\u001b[39m\u001b[38;5;124mexec\u001b[39m\u001b[38;5;124m\"\u001b[39m\n",
      "\u001b[1;32m     19\u001b[0m unparsed_source: \u001b[38;5;28mstr\u001b[39m \u001b[38;5;241m=\u001b[39m ast\u001b[38;5;241m.\u001b[39munparse(source)\n",
      "\u001b[0;32m---> 20\u001b[0m code_obj \u001b[38;5;241m=\u001b[39m \u001b[38;5;28;43mself\u001b[39;49m\u001b[38;5;241;43m.\u001b[39;49m\u001b[43mparser\u001b[49m\u001b[38;5;241;43m.\u001b[39;49m\u001b[43mparse_and_compile\u001b[49m\u001b[43m(\u001b[49m\n",
      "\u001b[1;32m     21\u001b[0m \u001b[43m    \u001b[49m\u001b[43mcode\u001b[49m\u001b[38;5;241;43m=\u001b[39;49m\u001b[43munparsed_source\u001b[49m\u001b[43m,\u001b[49m\u001b[43m \u001b[49m\u001b[43mfilename\u001b[49m\u001b[38;5;241;43m=\u001b[39;49m\u001b[43mfilename\u001b[49m\u001b[43m,\u001b[49m\u001b[43m \u001b[49m\u001b[43mmode\u001b[49m\u001b[38;5;241;43m=\u001b[39;49m\u001b[43msymbol\u001b[49m\n",
      "\u001b[1;32m     22\u001b[0m \u001b[43m\u001b[49m\u001b[43m)\u001b[49m\n",
      "\u001b[1;32m     23\u001b[0m \u001b[38;5;28;01mfor\u001b[39;00m feature \u001b[38;5;129;01min\u001b[39;00m _features:\n",
      "\u001b[1;32m     24\u001b[0m     \u001b[38;5;28;01mif\u001b[39;00m code_obj\u001b[38;5;241m.\u001b[39mco_flags \u001b[38;5;241m&\u001b[39m feature\u001b[38;5;241m.\u001b[39mcompiler_flag:\n",
      "File \u001b[0;32m/code/dependencies/ag-engine/ag_engine/parser.py:56\u001b[0m, in \u001b[0;36mParser.parse_and_compile\u001b[0;34m(self, code, filename, mode)\u001b[0m\n",
      "\u001b[1;32m     53\u001b[0m total_code \u001b[38;5;241m=\u001b[39m \u001b[38;5;124m\"\u001b[39m\u001b[38;5;130;01m\\n\u001b[39;00m\u001b[38;5;124m\"\u001b[39m\u001b[38;5;241m.\u001b[39mjoin(\u001b[38;5;28mself\u001b[39m\u001b[38;5;241m.\u001b[39mcode_history) \u001b[38;5;241m+\u001b[39m \u001b[38;5;124m\"\u001b[39m\u001b[38;5;130;01m\\n\u001b[39;00m\u001b[38;5;124m\"\u001b[39m \u001b[38;5;241m+\u001b[39m code\n",
      "\u001b[1;32m     55\u001b[0m ast \u001b[38;5;241m=\u001b[39m AST(code\u001b[38;5;241m=\u001b[39mtotal_code)\n",
      "\u001b[0;32m---> 56\u001b[0m \u001b[43mast\u001b[49m\u001b[38;5;241;43m.\u001b[39;49m\u001b[43mcheck\u001b[49m\u001b[43m(\u001b[49m\u001b[43m)\u001b[49m\n",
      "\u001b[1;32m     58\u001b[0m sym \u001b[38;5;241m=\u001b[39m Symtable(code\u001b[38;5;241m=\u001b[39mtotal_code, allowed_global_symbols\u001b[38;5;241m=\u001b[39m\u001b[38;5;28mself\u001b[39m\u001b[38;5;241m.\u001b[39mdefault_globals)\n",
      "\u001b[1;32m     59\u001b[0m sym\u001b[38;5;241m.\u001b[39msymtable_check()\n",
      "File \u001b[0;32m/code/dependencies/ag-engine/ag_engine/static_analysis/ast_walk.py:16\u001b[0m, in \u001b[0;36mAST.check\u001b[0;34m(self)\u001b[0m\n",
      "\u001b[1;32m     14\u001b[0m \u001b[38;5;28;01mfor\u001b[39;00m node \u001b[38;5;129;01min\u001b[39;00m ast\u001b[38;5;241m.\u001b[39mwalk(\u001b[38;5;28mself\u001b[39m\u001b[38;5;241m.\u001b[39mast_code):\n",
      "\u001b[1;32m     15\u001b[0m     \u001b[38;5;28;01mif\u001b[39;00m \u001b[38;5;28mtype\u001b[39m(node) \u001b[38;5;129;01mnot\u001b[39;00m \u001b[38;5;129;01min\u001b[39;00m default_config\u001b[38;5;241m.\u001b[39mast_allowed:\n",
      "\u001b[0;32m---> 16\u001b[0m         \u001b[38;5;28;01mraise\u001b[39;00m \u001b[38;5;167;01mRuntimeError\u001b[39;00m(\u001b[38;5;124mf\u001b[39m\u001b[38;5;124m\"\u001b[39m\u001b[38;5;124mRestricted, Cannot use \u001b[39m\u001b[38;5;132;01m{\u001b[39;00mnode\u001b[38;5;132;01m}\u001b[39;00m\u001b[38;5;124m in pripy\u001b[39m\u001b[38;5;124m\"\u001b[39m)\n",
      "\u001b[1;32m     18\u001b[0m     \u001b[38;5;66;03m# adding imports\u001b[39;00m\n",
      "\u001b[1;32m     19\u001b[0m     \u001b[38;5;28;01mif\u001b[39;00m \u001b[38;5;28misinstance\u001b[39m(node, ast\u001b[38;5;241m.\u001b[39mImport):\n",
      "\u001b[0;31mRuntimeError\u001b[0m: Restricted, Cannot use <ast.Global object at 0x7f74680d0820> in pripy\n"
     ]
    }
   ],
   "source": [
    "%%ag \n",
    "r = 1\n",
    "r = r + 1\n",
    "\n",
    "def goofie() -> None:\n",
    "    # same is true for any free, nonlocal, global vars\n",
    "    # either implicitly or explicitly defined...\n",
    "    global r\n",
    "    r = 6\n",
    "    \n",
    "goofie()"
   ]
  },
  {
   "attachments": {},
   "cell_type": "markdown",
   "metadata": {},
   "source": [
    "### Private DataFrames \n",
    "\n",
    "Usually the dataset you are looking for will already be present in the session you connect into, however we'll show you how these are constructed first and then how we can use most of the common pandas interfaces in a differentially private mannor to gain insights into the underlying dataset:"
   ]
  },
  {
   "cell_type": "code",
   "execution_count": 8,
   "metadata": {},
   "outputs": [
    {
     "name": "stdout",
     "output_type": "stream",
     "text": [
      "Output: ____GETATTR____\n",
      "obj = <module 'pandas' from '/usr/local/lib/python3.11/site-packages/pandas/__init__.py'>\n",
      "attr = DataFrame\n",
      "\n",
      "____GETATTR____\n",
      "obj = <module 'numpy' from '/usr/local/lib/python3.11/site-packages/numpy/__init__.py'>\n",
      "attr = random\n",
      "\n",
      "____GETATTR____\n",
      "obj = <module 'numpy.random' from '/usr/local/lib/python3.11/site-packages/numpy/random/__init__.py'>\n",
      "attr = randint\n",
      "\n",
      "\n"
     ]
    }
   ],
   "source": [
    "%%ag\n",
    "import numpy as np\n",
    "import pandas as pd\n",
    "from op_pandas import PrivateDataFrame\n",
    "\n",
    "# create the priate dataframe. This is usually done for you.\n",
    "df = pd.DataFrame(np.random.randint(10, size=(1000, 2)), columns=[\"Example\", \"Example2\"])\n",
    "pdf = PrivateDataFrame(df, metadata={\"Example\": (0, 10), \"Example2\": (0, 10)}, _id=1234567890)\n"
   ]
  },
  {
   "attachments": {},
   "cell_type": "markdown",
   "metadata": {},
   "source": [
    "Now we can ask statistical questions from the private dataframe by spending some of our privacy budget:"
   ]
  },
  {
   "cell_type": "code",
   "execution_count": 9,
   "metadata": {},
   "outputs": [
    {
     "name": "stdout",
     "output_type": "stream",
     "text": [
      "Setting up exported variable in local environment: sum_\n",
      "Setting up exported variable in local environment: mean_\n",
      "Setting up exported variable in local environment: std_\n",
      "Setting up exported variable in local environment: count_\n",
      "Setting up exported variable in local environment: var_\n",
      "Setting up exported variable in local environment: median_\n",
      "Setting up exported variable in local environment: quantile_\n"
     ]
    }
   ],
   "source": [
    "%%ag\n",
    "export(pdf.sum(1), \"sum_\")\n",
    "export(pdf.mean(1), \"mean_\")\n",
    "export(pdf.std(1), \"std_\")\n",
    "export(pdf.count(1), \"count_\")\n",
    "export(pdf.var(1), \"var_\")\n",
    "export(pdf.median(1), \"median_\")\n",
    "export(pdf.quantile(0.25), \"quantile_\")"
   ]
  },
  {
   "attachments": {},
   "cell_type": "markdown",
   "metadata": {},
   "source": [
    "Once exported we can plot them, print them, whatever you want:"
   ]
  },
  {
   "cell_type": "code",
   "execution_count": 10,
   "metadata": {},
   "outputs": [
    {
     "name": "stdout",
     "output_type": "stream",
     "text": [
      "The sum was: Example     4460.312360\n",
      "Example2    4422.819264\n",
      "dtype: float64\n",
      "The mean was: Example     4.457707\n",
      "Example2    4.422029\n",
      "dtype: float64\n",
      "The std was: Example     2.856420\n",
      "Example2    2.853768\n",
      "dtype: float64\n",
      "The count was: Example     888\n",
      "Example2    890\n",
      "dtype: int64\n",
      "The var was: Example     8.228802\n",
      "Example2    8.198098\n",
      "dtype: float64\n",
      "The median was: Example     4.681977\n",
      "Example2    4.938954\n",
      "dtype: float64\n",
      "The quantile was: Example     4.307548\n",
      "Example2    4.076156\n",
      "dtype: float64\n"
     ]
    }
   ],
   "source": [
    "print(\"The sum was:\", sum_)\n",
    "print(\"The mean was:\", mean_)\n",
    "print(\"The std was:\", std_)\n",
    "print(\"The count was:\", count_)\n",
    "print(\"The var was:\", var_)\n",
    "print(\"The median was:\", median_)\n",
    "print(\"The quantile was:\", quantile_)"
   ]
  },
  {
   "attachments": {},
   "cell_type": "markdown",
   "metadata": {},
   "source": [
    "### SciKit Learn with DiffPrivLib \n",
    "\n",
    "One of the beauties of of the python ecosystem is the rich landscape of frameworks for data science. Fortunately, there are drop in replacements for a number of these which preserve differential privacy. One convenient one is DiffPrivLib written by Naoise Holohan at IBM Research. \n",
    "\n",
    "Let's go ahead and train a random forest with differential privacy, for example, on our dataset and download the resulting model to our local machine."
   ]
  },
  {
   "cell_type": "code",
   "execution_count": 11,
   "metadata": {},
   "outputs": [
    {
     "name": "stdout",
     "output_type": "stream",
     "text": [
      "Output: ____GETATTR____\n",
      "obj = <module 'pandas' from '/usr/local/lib/python3.11/site-packages/pandas/__init__.py'>\n",
      "attr = DataFrame\n",
      "\n",
      "____GETATTR____\n",
      "obj = <module 'numpy' from '/usr/local/lib/python3.11/site-packages/numpy/__init__.py'>\n",
      "attr = random\n",
      "\n",
      "____GETATTR____\n",
      "obj = <module 'numpy.random' from '/usr/local/lib/python3.11/site-packages/numpy/random/__init__.py'>\n",
      "attr = randint\n",
      "\n",
      "\n",
      "\u001b[0;31m---------------------------------------------------------------------------\u001b[0m\u001b[0;31mRuntimeError\u001b[0m                              Traceback (most recent call last)Cell \u001b[0;32mIn[6], line 1\u001b[0m\n",
      "\u001b[0;32m----> 1\u001b[0m \u001b[38;5;28;01mfrom\u001b[39;00m \u001b[38;5;21;01mop_diffprivlib\u001b[39;00m \u001b[38;5;28;01mimport\u001b[39;00m PrivateRandomForestClassifier\n",
      "\u001b[1;32m      3\u001b[0m df \u001b[38;5;241m=\u001b[39m pd\u001b[38;5;241m.\u001b[39mDataFrame(np\u001b[38;5;241m.\u001b[39mrandom\u001b[38;5;241m.\u001b[39mrandint(\u001b[38;5;241m2\u001b[39m, size\u001b[38;5;241m=\u001b[39m(\u001b[38;5;241m1000\u001b[39m, \u001b[38;5;241m1\u001b[39m)), columns\u001b[38;5;241m=\u001b[39m[\u001b[38;5;124m\"\u001b[39m\u001b[38;5;124mtargets\u001b[39m\u001b[38;5;124m\"\u001b[39m])\n",
      "\u001b[1;32m      4\u001b[0m target_pdf \u001b[38;5;241m=\u001b[39m PrivateDataFrame(df, metadata\u001b[38;5;241m=\u001b[39m{\u001b[38;5;124m\"\u001b[39m\u001b[38;5;124mtargets\u001b[39m\u001b[38;5;124m\"\u001b[39m: (\u001b[38;5;241m0\u001b[39m, \u001b[38;5;241m2\u001b[39m)}, _id\u001b[38;5;241m=\u001b[39m\u001b[38;5;241m1234567890\u001b[39m)\n",
      "File \u001b[0;32m/code/dependencies/ag-engine/ag_engine/restricted_python/custom_hooks.py:21\u001b[0m, in \u001b[0;36mCustomHooks.get_attribute\u001b[0;34m(self, obj, attr)\u001b[0m\n",
      "\u001b[1;32m     18\u001b[0m         \u001b[38;5;28;01mif\u001b[39;00m attr \u001b[38;5;129;01min\u001b[39;00m default_config\u001b[38;5;241m.\u001b[39mtype_methods[obj\u001b[38;5;241m.\u001b[39m\u001b[38;5;18m__class__\u001b[39m\u001b[38;5;241m.\u001b[39m\u001b[38;5;18m__name__\u001b[39m]:\n",
      "\u001b[1;32m     19\u001b[0m             \u001b[38;5;28;01mreturn\u001b[39;00m \u001b[38;5;28mgetattr\u001b[39m(obj, attr)\n",
      "\u001b[0;32m---> 21\u001b[0m \u001b[38;5;28;01mraise\u001b[39;00m \u001b[38;5;167;01mRuntimeError\u001b[39;00m(\u001b[38;5;124mf\u001b[39m\u001b[38;5;124m\"\u001b[39m\u001b[38;5;124mRestricted, Cannot use \u001b[39m\u001b[38;5;132;01m{\u001b[39;00mattr\u001b[38;5;132;01m}\u001b[39;00m\u001b[38;5;124m from \u001b[39m\u001b[38;5;132;01m{\u001b[39;00mobj\u001b[38;5;132;01m}\u001b[39;00m\u001b[38;5;124m\"\u001b[39m)\n",
      "\u001b[0;31mRuntimeError\u001b[0m: Restricted, Cannot use fit from <op_diffprivlib.wrapper_generator.<locals>.ModelWrapper object at 0x7f73cd650150>\n"
     ]
    }
   ],
   "source": [
    "%%ag\n",
    "from op_diffprivlib import PrivateRandomForestClassifier\n",
    "\n",
    "df = pd.DataFrame(np.random.randint(2, size=(1000, 1)), columns=[\"targets\"])\n",
    "target_pdf = PrivateDataFrame(df, metadata={\"targets\": (0, 2)}, _id=1234567890)\n",
    "\n",
    "clf = PrivateRandomForestClassifier(epsilon=0.2, bounds=(0,10))\n",
    "clf.fit(pdf, target_pdf)"
   ]
  },
  {
   "cell_type": "code",
   "execution_count": 12,
   "metadata": {},
   "outputs": [
    {
     "name": "stdout",
     "output_type": "stream",
     "text": [
      "\u001b[0;31m---------------------------------------------------------------------------\u001b[0m\u001b[0;31mAttributeError\u001b[0m                            Traceback (most recent call last)Cell \u001b[0;32mIn[7], line 1\u001b[0m\n",
      "\u001b[0;32m----> 1\u001b[0m \u001b[43mexport\u001b[49m\u001b[43m(\u001b[49m\u001b[43mclf\u001b[49m\u001b[43m,\u001b[49m\u001b[43m \u001b[49m\u001b[38;5;124;43m\"\u001b[39;49m\u001b[38;5;124;43mclf\u001b[39;49m\u001b[38;5;124;43m\"\u001b[39;49m\u001b[43m)\u001b[49m\n",
      "File \u001b[0;32m/code/dependencies/ag-utils/ag_utils/export.py:19\u001b[0m, in \u001b[0;36mexport\u001b[0;34m(value, name)\u001b[0m\n",
      "\u001b[1;32m     14\u001b[0m     \u001b[38;5;28;01mraise\u001b[39;00m \u001b[38;5;167;01mValueError\u001b[39;00m(\n",
      "\u001b[1;32m     15\u001b[0m         \u001b[38;5;124m\"\u001b[39m\u001b[38;5;124mPlease ensure export function is called in a valid Jupyter environment.\u001b[39m\u001b[38;5;124m\"\u001b[39m\n",
      "\u001b[1;32m     16\u001b[0m     )\n",
      "\u001b[1;32m     18\u001b[0m \u001b[38;5;66;03m# Pickle value to export - this ensures base64 encoding of the value\u001b[39;00m\n",
      "\u001b[0;32m---> 19\u001b[0m exp_value \u001b[38;5;241m=\u001b[39m pickle\u001b[38;5;241m.\u001b[39mdumps(value)\n",
      "\u001b[1;32m     21\u001b[0m \u001b[38;5;66;03m# Send a custom message to the Jupyter client with the 'ag_export_value' message type\u001b[39;00m\n",
      "\u001b[1;32m     22\u001b[0m ipython\u001b[38;5;241m.\u001b[39mkernel\u001b[38;5;241m.\u001b[39msend_response(\n",
      "\u001b[1;32m     23\u001b[0m     ipython\u001b[38;5;241m.\u001b[39mkernel\u001b[38;5;241m.\u001b[39miopub_socket,\n",
      "\u001b[1;32m     24\u001b[0m     \u001b[38;5;124m\"\u001b[39m\u001b[38;5;124mag_export_value\u001b[39m\u001b[38;5;124m\"\u001b[39m,\n",
      "\u001b[1;32m     25\u001b[0m     {name: exp_value},\n",
      "\u001b[1;32m     26\u001b[0m )\n",
      "\u001b[0;31mAttributeError\u001b[0m: Can't pickle local object 'wrapper_generator.<locals>.ModelWrapper'\n"
     ]
    }
   ],
   "source": [
    "%%ag\n",
    "export(clf, \"clf\")"
   ]
  },
  {
   "cell_type": "code",
   "execution_count": 13,
   "metadata": {},
   "outputs": [
    {
     "ename": "AttributeError",
     "evalue": "module 'antigranular' has no attribute 'load_store'",
     "output_type": "error",
     "traceback": [
      "\u001b[0;31m---------------------------------------------------------------------------\u001b[0m",
      "\u001b[0;31mAttributeError\u001b[0m                            Traceback (most recent call last)",
      "Cell \u001b[0;32mIn[13], line 1\u001b[0m\n\u001b[0;32m----> 1\u001b[0m ag\u001b[39m.\u001b[39;49mload_store(\u001b[39m\"\u001b[39m\u001b[39m\"\u001b[39m)\n",
      "\u001b[0;31mAttributeError\u001b[0m: module 'antigranular' has no attribute 'load_store'"
     ]
    }
   ],
   "source": [
    "ag.load_store(\"\")"
   ]
  },
  {
   "cell_type": "code",
   "execution_count": null,
   "metadata": {},
   "outputs": [],
   "source": [
    "lalala2"
   ]
  },
  {
   "cell_type": "code",
   "execution_count": null,
   "metadata": {},
   "outputs": [],
   "source": []
  }
 ],
 "metadata": {
  "kernelspec": {
   "display_name": "Python 3 (ipykernel)",
   "language": "python",
   "name": "python3"
  },
  "language_info": {
   "codemirror_mode": {
    "name": "ipython",
    "version": 3
   },
   "file_extension": ".py",
   "mimetype": "text/x-python",
   "name": "python",
   "nbconvert_exporter": "python",
   "pygments_lexer": "ipython3",
   "version": "3.8.10"
  }
 },
 "nbformat": 4,
 "nbformat_minor": 4
}
